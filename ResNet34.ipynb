{
  "nbformat": 4,
  "nbformat_minor": 0,
  "metadata": {
    "colab": {
      "name": "ResNet34.ipynb",
      "provenance": [],
      "collapsed_sections": [],
      "authorship_tag": "ABX9TyPAf/dFv3w+DuknjSklMCT6",
      "include_colab_link": true
    },
    "kernelspec": {
      "name": "python3",
      "display_name": "Python 3"
    },
    "language_info": {
      "name": "python"
    },
    "accelerator": "GPU",
    "widgets": {
      "application/vnd.jupyter.widget-state+json": {
        "bea2ac1eef8349f69d6c367eaf6e906e": {
          "model_module": "@jupyter-widgets/controls",
          "model_name": "HBoxModel",
          "state": {
            "_view_name": "HBoxView",
            "_dom_classes": [],
            "_model_name": "HBoxModel",
            "_view_module": "@jupyter-widgets/controls",
            "_model_module_version": "1.5.0",
            "_view_count": null,
            "_view_module_version": "1.5.0",
            "box_style": "",
            "layout": "IPY_MODEL_0bb1ad307ef94555a1e4b8cb152f283a",
            "_model_module": "@jupyter-widgets/controls",
            "children": [
              "IPY_MODEL_255d7b0cb2754b55ba28e2d29124a1b8",
              "IPY_MODEL_62e9f073ffe446e691fe483fdbf56363"
            ]
          }
        },
        "0bb1ad307ef94555a1e4b8cb152f283a": {
          "model_module": "@jupyter-widgets/base",
          "model_name": "LayoutModel",
          "state": {
            "_view_name": "LayoutView",
            "grid_template_rows": null,
            "right": null,
            "justify_content": null,
            "_view_module": "@jupyter-widgets/base",
            "overflow": null,
            "_model_module_version": "1.2.0",
            "_view_count": null,
            "flex_flow": null,
            "width": null,
            "min_width": null,
            "border": null,
            "align_items": null,
            "bottom": null,
            "_model_module": "@jupyter-widgets/base",
            "top": null,
            "grid_column": null,
            "overflow_y": null,
            "overflow_x": null,
            "grid_auto_flow": null,
            "grid_area": null,
            "grid_template_columns": null,
            "flex": null,
            "_model_name": "LayoutModel",
            "justify_items": null,
            "grid_row": null,
            "max_height": null,
            "align_content": null,
            "visibility": null,
            "align_self": null,
            "height": null,
            "min_height": null,
            "padding": null,
            "grid_auto_rows": null,
            "grid_gap": null,
            "max_width": null,
            "order": null,
            "_view_module_version": "1.2.0",
            "grid_template_areas": null,
            "object_position": null,
            "object_fit": null,
            "grid_auto_columns": null,
            "margin": null,
            "display": null,
            "left": null
          }
        },
        "255d7b0cb2754b55ba28e2d29124a1b8": {
          "model_module": "@jupyter-widgets/controls",
          "model_name": "FloatProgressModel",
          "state": {
            "_view_name": "ProgressView",
            "style": "IPY_MODEL_a9eb4979a2474ac29a1160bb14bec544",
            "_dom_classes": [],
            "description": "",
            "_model_name": "FloatProgressModel",
            "bar_style": "success",
            "max": 182040794,
            "_view_module": "@jupyter-widgets/controls",
            "_model_module_version": "1.5.0",
            "value": 182040794,
            "_view_count": null,
            "_view_module_version": "1.5.0",
            "orientation": "horizontal",
            "min": 0,
            "description_tooltip": null,
            "_model_module": "@jupyter-widgets/controls",
            "layout": "IPY_MODEL_2b05433cea564c24bdb2fe4d8cc12688"
          }
        },
        "62e9f073ffe446e691fe483fdbf56363": {
          "model_module": "@jupyter-widgets/controls",
          "model_name": "HTMLModel",
          "state": {
            "_view_name": "HTMLView",
            "style": "IPY_MODEL_46eb7189ea124690960e3eb187025b04",
            "_dom_classes": [],
            "description": "",
            "_model_name": "HTMLModel",
            "placeholder": "​",
            "_view_module": "@jupyter-widgets/controls",
            "_model_module_version": "1.5.0",
            "value": " 182041600/? [00:12&lt;00:00, 14623392.11it/s]",
            "_view_count": null,
            "_view_module_version": "1.5.0",
            "description_tooltip": null,
            "_model_module": "@jupyter-widgets/controls",
            "layout": "IPY_MODEL_c288b361ad7a4650a29bb6214711fefc"
          }
        },
        "a9eb4979a2474ac29a1160bb14bec544": {
          "model_module": "@jupyter-widgets/controls",
          "model_name": "ProgressStyleModel",
          "state": {
            "_view_name": "StyleView",
            "_model_name": "ProgressStyleModel",
            "description_width": "initial",
            "_view_module": "@jupyter-widgets/base",
            "_model_module_version": "1.5.0",
            "_view_count": null,
            "_view_module_version": "1.2.0",
            "bar_color": null,
            "_model_module": "@jupyter-widgets/controls"
          }
        },
        "2b05433cea564c24bdb2fe4d8cc12688": {
          "model_module": "@jupyter-widgets/base",
          "model_name": "LayoutModel",
          "state": {
            "_view_name": "LayoutView",
            "grid_template_rows": null,
            "right": null,
            "justify_content": null,
            "_view_module": "@jupyter-widgets/base",
            "overflow": null,
            "_model_module_version": "1.2.0",
            "_view_count": null,
            "flex_flow": null,
            "width": null,
            "min_width": null,
            "border": null,
            "align_items": null,
            "bottom": null,
            "_model_module": "@jupyter-widgets/base",
            "top": null,
            "grid_column": null,
            "overflow_y": null,
            "overflow_x": null,
            "grid_auto_flow": null,
            "grid_area": null,
            "grid_template_columns": null,
            "flex": null,
            "_model_name": "LayoutModel",
            "justify_items": null,
            "grid_row": null,
            "max_height": null,
            "align_content": null,
            "visibility": null,
            "align_self": null,
            "height": null,
            "min_height": null,
            "padding": null,
            "grid_auto_rows": null,
            "grid_gap": null,
            "max_width": null,
            "order": null,
            "_view_module_version": "1.2.0",
            "grid_template_areas": null,
            "object_position": null,
            "object_fit": null,
            "grid_auto_columns": null,
            "margin": null,
            "display": null,
            "left": null
          }
        },
        "46eb7189ea124690960e3eb187025b04": {
          "model_module": "@jupyter-widgets/controls",
          "model_name": "DescriptionStyleModel",
          "state": {
            "_view_name": "StyleView",
            "_model_name": "DescriptionStyleModel",
            "description_width": "",
            "_view_module": "@jupyter-widgets/base",
            "_model_module_version": "1.5.0",
            "_view_count": null,
            "_view_module_version": "1.2.0",
            "_model_module": "@jupyter-widgets/controls"
          }
        },
        "c288b361ad7a4650a29bb6214711fefc": {
          "model_module": "@jupyter-widgets/base",
          "model_name": "LayoutModel",
          "state": {
            "_view_name": "LayoutView",
            "grid_template_rows": null,
            "right": null,
            "justify_content": null,
            "_view_module": "@jupyter-widgets/base",
            "overflow": null,
            "_model_module_version": "1.2.0",
            "_view_count": null,
            "flex_flow": null,
            "width": null,
            "min_width": null,
            "border": null,
            "align_items": null,
            "bottom": null,
            "_model_module": "@jupyter-widgets/base",
            "top": null,
            "grid_column": null,
            "overflow_y": null,
            "overflow_x": null,
            "grid_auto_flow": null,
            "grid_area": null,
            "grid_template_columns": null,
            "flex": null,
            "_model_name": "LayoutModel",
            "justify_items": null,
            "grid_row": null,
            "max_height": null,
            "align_content": null,
            "visibility": null,
            "align_self": null,
            "height": null,
            "min_height": null,
            "padding": null,
            "grid_auto_rows": null,
            "grid_gap": null,
            "max_width": null,
            "order": null,
            "_view_module_version": "1.2.0",
            "grid_template_areas": null,
            "object_position": null,
            "object_fit": null,
            "grid_auto_columns": null,
            "margin": null,
            "display": null,
            "left": null
          }
        },
        "948992883d45440da3cead5c8cf75f83": {
          "model_module": "@jupyter-widgets/controls",
          "model_name": "HBoxModel",
          "state": {
            "_view_name": "HBoxView",
            "_dom_classes": [],
            "_model_name": "HBoxModel",
            "_view_module": "@jupyter-widgets/controls",
            "_model_module_version": "1.5.0",
            "_view_count": null,
            "_view_module_version": "1.5.0",
            "box_style": "",
            "layout": "IPY_MODEL_b5e96cc5a8414d98bf932e7922307a2e",
            "_model_module": "@jupyter-widgets/controls",
            "children": [
              "IPY_MODEL_82d238e105e94beb9ab5546aafdbb594",
              "IPY_MODEL_9defc96d0e1640da92e51d6d815738f0"
            ]
          }
        },
        "b5e96cc5a8414d98bf932e7922307a2e": {
          "model_module": "@jupyter-widgets/base",
          "model_name": "LayoutModel",
          "state": {
            "_view_name": "LayoutView",
            "grid_template_rows": null,
            "right": null,
            "justify_content": null,
            "_view_module": "@jupyter-widgets/base",
            "overflow": null,
            "_model_module_version": "1.2.0",
            "_view_count": null,
            "flex_flow": null,
            "width": null,
            "min_width": null,
            "border": null,
            "align_items": null,
            "bottom": null,
            "_model_module": "@jupyter-widgets/base",
            "top": null,
            "grid_column": null,
            "overflow_y": null,
            "overflow_x": null,
            "grid_auto_flow": null,
            "grid_area": null,
            "grid_template_columns": null,
            "flex": null,
            "_model_name": "LayoutModel",
            "justify_items": null,
            "grid_row": null,
            "max_height": null,
            "align_content": null,
            "visibility": null,
            "align_self": null,
            "height": null,
            "min_height": null,
            "padding": null,
            "grid_auto_rows": null,
            "grid_gap": null,
            "max_width": null,
            "order": null,
            "_view_module_version": "1.2.0",
            "grid_template_areas": null,
            "object_position": null,
            "object_fit": null,
            "grid_auto_columns": null,
            "margin": null,
            "display": null,
            "left": null
          }
        },
        "82d238e105e94beb9ab5546aafdbb594": {
          "model_module": "@jupyter-widgets/controls",
          "model_name": "FloatProgressModel",
          "state": {
            "_view_name": "ProgressView",
            "style": "IPY_MODEL_a1e1c534f5ee436d87dc4b579da59da5",
            "_dom_classes": [],
            "description": "",
            "_model_name": "FloatProgressModel",
            "bar_style": "success",
            "max": 64275384,
            "_view_module": "@jupyter-widgets/controls",
            "_model_module_version": "1.5.0",
            "value": 64275384,
            "_view_count": null,
            "_view_module_version": "1.5.0",
            "orientation": "horizontal",
            "min": 0,
            "description_tooltip": null,
            "_model_module": "@jupyter-widgets/controls",
            "layout": "IPY_MODEL_364176e3df2546a5a6e5ea248cca7750"
          }
        },
        "9defc96d0e1640da92e51d6d815738f0": {
          "model_module": "@jupyter-widgets/controls",
          "model_name": "HTMLModel",
          "state": {
            "_view_name": "HTMLView",
            "style": "IPY_MODEL_9808c067b1c842668ddab35967417e0b",
            "_dom_classes": [],
            "description": "",
            "_model_name": "HTMLModel",
            "placeholder": "​",
            "_view_module": "@jupyter-widgets/controls",
            "_model_module_version": "1.5.0",
            "value": " 64275456/? [01:16&lt;00:00, 840778.78it/s]",
            "_view_count": null,
            "_view_module_version": "1.5.0",
            "description_tooltip": null,
            "_model_module": "@jupyter-widgets/controls",
            "layout": "IPY_MODEL_639ed510b56b4fb38dd082f5ea902ff7"
          }
        },
        "a1e1c534f5ee436d87dc4b579da59da5": {
          "model_module": "@jupyter-widgets/controls",
          "model_name": "ProgressStyleModel",
          "state": {
            "_view_name": "StyleView",
            "_model_name": "ProgressStyleModel",
            "description_width": "initial",
            "_view_module": "@jupyter-widgets/base",
            "_model_module_version": "1.5.0",
            "_view_count": null,
            "_view_module_version": "1.2.0",
            "bar_color": null,
            "_model_module": "@jupyter-widgets/controls"
          }
        },
        "364176e3df2546a5a6e5ea248cca7750": {
          "model_module": "@jupyter-widgets/base",
          "model_name": "LayoutModel",
          "state": {
            "_view_name": "LayoutView",
            "grid_template_rows": null,
            "right": null,
            "justify_content": null,
            "_view_module": "@jupyter-widgets/base",
            "overflow": null,
            "_model_module_version": "1.2.0",
            "_view_count": null,
            "flex_flow": null,
            "width": null,
            "min_width": null,
            "border": null,
            "align_items": null,
            "bottom": null,
            "_model_module": "@jupyter-widgets/base",
            "top": null,
            "grid_column": null,
            "overflow_y": null,
            "overflow_x": null,
            "grid_auto_flow": null,
            "grid_area": null,
            "grid_template_columns": null,
            "flex": null,
            "_model_name": "LayoutModel",
            "justify_items": null,
            "grid_row": null,
            "max_height": null,
            "align_content": null,
            "visibility": null,
            "align_self": null,
            "height": null,
            "min_height": null,
            "padding": null,
            "grid_auto_rows": null,
            "grid_gap": null,
            "max_width": null,
            "order": null,
            "_view_module_version": "1.2.0",
            "grid_template_areas": null,
            "object_position": null,
            "object_fit": null,
            "grid_auto_columns": null,
            "margin": null,
            "display": null,
            "left": null
          }
        },
        "9808c067b1c842668ddab35967417e0b": {
          "model_module": "@jupyter-widgets/controls",
          "model_name": "DescriptionStyleModel",
          "state": {
            "_view_name": "StyleView",
            "_model_name": "DescriptionStyleModel",
            "description_width": "",
            "_view_module": "@jupyter-widgets/base",
            "_model_module_version": "1.5.0",
            "_view_count": null,
            "_view_module_version": "1.2.0",
            "_model_module": "@jupyter-widgets/controls"
          }
        },
        "639ed510b56b4fb38dd082f5ea902ff7": {
          "model_module": "@jupyter-widgets/base",
          "model_name": "LayoutModel",
          "state": {
            "_view_name": "LayoutView",
            "grid_template_rows": null,
            "right": null,
            "justify_content": null,
            "_view_module": "@jupyter-widgets/base",
            "overflow": null,
            "_model_module_version": "1.2.0",
            "_view_count": null,
            "flex_flow": null,
            "width": null,
            "min_width": null,
            "border": null,
            "align_items": null,
            "bottom": null,
            "_model_module": "@jupyter-widgets/base",
            "top": null,
            "grid_column": null,
            "overflow_y": null,
            "overflow_x": null,
            "grid_auto_flow": null,
            "grid_area": null,
            "grid_template_columns": null,
            "flex": null,
            "_model_name": "LayoutModel",
            "justify_items": null,
            "grid_row": null,
            "max_height": null,
            "align_content": null,
            "visibility": null,
            "align_self": null,
            "height": null,
            "min_height": null,
            "padding": null,
            "grid_auto_rows": null,
            "grid_gap": null,
            "max_width": null,
            "order": null,
            "_view_module_version": "1.2.0",
            "grid_template_areas": null,
            "object_position": null,
            "object_fit": null,
            "grid_auto_columns": null,
            "margin": null,
            "display": null,
            "left": null
          }
        }
      }
    }
  },
  "cells": [
    {
      "cell_type": "markdown",
      "metadata": {
        "id": "view-in-github",
        "colab_type": "text"
      },
      "source": [
        "<a href=\"https://colab.research.google.com/github/evcaburnay/EE-298-Project/blob/main/ResNet34.ipynb\" target=\"_parent\"><img src=\"https://colab.research.google.com/assets/colab-badge.svg\" alt=\"Open In Colab\"/></a>"
      ]
    },
    {
      "cell_type": "code",
      "metadata": {
        "id": "ka9j3PEjKA89",
        "colab": {
          "base_uri": "https://localhost:8080/"
        },
        "outputId": "0b510063-2962-46de-8e0f-299143785517"
      },
      "source": [
        "import matplotlib.pyplot as plt\n",
        "!pip install timm\n",
        "import timm\n",
        "import torch\n",
        "import torch.nn as nn\n",
        "import torch.nn.functional as F\n",
        "import torch.optim as optim\n",
        "import torchvision\n",
        "from torchvision import datasets, transforms\n",
        "from torch.autograd import Variable"
      ],
      "execution_count": 1,
      "outputs": [
        {
          "output_type": "stream",
          "text": [
            "Collecting timm\n",
            "\u001b[?25l  Downloading https://files.pythonhosted.org/packages/9e/89/d94f59780b5dd973154bf506d8ce598f6bfe7cc44dd445d644d6d3be8c39/timm-0.4.5-py3-none-any.whl (287kB)\n",
            "\r\u001b[K     |█▏                              | 10kB 20.5MB/s eta 0:00:01\r\u001b[K     |██▎                             | 20kB 16.9MB/s eta 0:00:01\r\u001b[K     |███▍                            | 30kB 14.7MB/s eta 0:00:01\r\u001b[K     |████▋                           | 40kB 13.6MB/s eta 0:00:01\r\u001b[K     |█████▊                          | 51kB 9.4MB/s eta 0:00:01\r\u001b[K     |██████▉                         | 61kB 9.6MB/s eta 0:00:01\r\u001b[K     |████████                        | 71kB 9.9MB/s eta 0:00:01\r\u001b[K     |█████████▏                      | 81kB 10.9MB/s eta 0:00:01\r\u001b[K     |██████████▎                     | 92kB 10.3MB/s eta 0:00:01\r\u001b[K     |███████████▍                    | 102kB 9.0MB/s eta 0:00:01\r\u001b[K     |████████████▌                   | 112kB 9.0MB/s eta 0:00:01\r\u001b[K     |█████████████▊                  | 122kB 9.0MB/s eta 0:00:01\r\u001b[K     |██████████████▉                 | 133kB 9.0MB/s eta 0:00:01\r\u001b[K     |████████████████                | 143kB 9.0MB/s eta 0:00:01\r\u001b[K     |█████████████████               | 153kB 9.0MB/s eta 0:00:01\r\u001b[K     |██████████████████▎             | 163kB 9.0MB/s eta 0:00:01\r\u001b[K     |███████████████████▍            | 174kB 9.0MB/s eta 0:00:01\r\u001b[K     |████████████████████▌           | 184kB 9.0MB/s eta 0:00:01\r\u001b[K     |█████████████████████▋          | 194kB 9.0MB/s eta 0:00:01\r\u001b[K     |██████████████████████▉         | 204kB 9.0MB/s eta 0:00:01\r\u001b[K     |████████████████████████        | 215kB 9.0MB/s eta 0:00:01\r\u001b[K     |█████████████████████████       | 225kB 9.0MB/s eta 0:00:01\r\u001b[K     |██████████████████████████▏     | 235kB 9.0MB/s eta 0:00:01\r\u001b[K     |███████████████████████████▍    | 245kB 9.0MB/s eta 0:00:01\r\u001b[K     |████████████████████████████▌   | 256kB 9.0MB/s eta 0:00:01\r\u001b[K     |█████████████████████████████▋  | 266kB 9.0MB/s eta 0:00:01\r\u001b[K     |██████████████████████████████▉ | 276kB 9.0MB/s eta 0:00:01\r\u001b[K     |████████████████████████████████| 286kB 9.0MB/s eta 0:00:01\r\u001b[K     |████████████████████████████████| 296kB 9.0MB/s \n",
            "\u001b[?25hRequirement already satisfied: torchvision in /usr/local/lib/python3.7/dist-packages (from timm) (0.9.1+cu101)\n",
            "Requirement already satisfied: torch>=1.4 in /usr/local/lib/python3.7/dist-packages (from timm) (1.8.1+cu101)\n",
            "Requirement already satisfied: numpy in /usr/local/lib/python3.7/dist-packages (from torchvision->timm) (1.19.5)\n",
            "Requirement already satisfied: pillow>=4.1.1 in /usr/local/lib/python3.7/dist-packages (from torchvision->timm) (7.1.2)\n",
            "Requirement already satisfied: typing-extensions in /usr/local/lib/python3.7/dist-packages (from torch>=1.4->timm) (3.7.4.3)\n",
            "Installing collected packages: timm\n",
            "Successfully installed timm-0.4.5\n"
          ],
          "name": "stdout"
        }
      ]
    },
    {
      "cell_type": "code",
      "metadata": {
        "colab": {
          "base_uri": "https://localhost:8080/",
          "height": 154,
          "referenced_widgets": [
            "bea2ac1eef8349f69d6c367eaf6e906e",
            "0bb1ad307ef94555a1e4b8cb152f283a",
            "255d7b0cb2754b55ba28e2d29124a1b8",
            "62e9f073ffe446e691fe483fdbf56363",
            "a9eb4979a2474ac29a1160bb14bec544",
            "2b05433cea564c24bdb2fe4d8cc12688",
            "46eb7189ea124690960e3eb187025b04",
            "c288b361ad7a4650a29bb6214711fefc",
            "948992883d45440da3cead5c8cf75f83",
            "b5e96cc5a8414d98bf932e7922307a2e",
            "82d238e105e94beb9ab5546aafdbb594",
            "9defc96d0e1640da92e51d6d815738f0",
            "a1e1c534f5ee436d87dc4b579da59da5",
            "364176e3df2546a5a6e5ea248cca7750",
            "9808c067b1c842668ddab35967417e0b",
            "639ed510b56b4fb38dd082f5ea902ff7"
          ]
        },
        "id": "rrKOorFjKPU2",
        "outputId": "ab7b3a00-c5a9-45a3-8fdd-0b8ab6c95e1b"
      },
      "source": [
        "trainset = datasets.SVHN(root='data/', split='train',download=True,\n",
        "                        transform = transforms.ToTensor())\n",
        "\n",
        "testset = datasets.SVHN(root='data/', split='test', download=True,\n",
        "                       transform = transforms.ToTensor())"
      ],
      "execution_count": 2,
      "outputs": [
        {
          "output_type": "stream",
          "text": [
            "Downloading http://ufldl.stanford.edu/housenumbers/train_32x32.mat to data/train_32x32.mat\n"
          ],
          "name": "stdout"
        },
        {
          "output_type": "display_data",
          "data": {
            "application/vnd.jupyter.widget-view+json": {
              "model_id": "bea2ac1eef8349f69d6c367eaf6e906e",
              "version_minor": 0,
              "version_major": 2
            },
            "text/plain": [
              "HBox(children=(FloatProgress(value=0.0, max=182040794.0), HTML(value='')))"
            ]
          },
          "metadata": {
            "tags": []
          }
        },
        {
          "output_type": "stream",
          "text": [
            "\n",
            "Downloading http://ufldl.stanford.edu/housenumbers/test_32x32.mat to data/test_32x32.mat\n"
          ],
          "name": "stdout"
        },
        {
          "output_type": "display_data",
          "data": {
            "application/vnd.jupyter.widget-view+json": {
              "model_id": "948992883d45440da3cead5c8cf75f83",
              "version_minor": 0,
              "version_major": 2
            },
            "text/plain": [
              "HBox(children=(FloatProgress(value=0.0, max=64275384.0), HTML(value='')))"
            ]
          },
          "metadata": {
            "tags": []
          }
        },
        {
          "output_type": "stream",
          "text": [
            "\n"
          ],
          "name": "stdout"
        }
      ]
    },
    {
      "cell_type": "code",
      "metadata": {
        "id": "yk5sOos7ufvc"
      },
      "source": [
        "batch_size = 64\n",
        "num_labels = 10\n",
        "epochs = 10"
      ],
      "execution_count": 3,
      "outputs": []
    },
    {
      "cell_type": "code",
      "metadata": {
        "id": "uzBsfCq9LGYQ"
      },
      "source": [
        "trainloader = torch.utils.data.DataLoader(trainset,\n",
        "                                          batch_size = batch_size, shuffle=True)\n",
        "testloader = torch.utils.data.DataLoader(testset, \n",
        "                                         batch_size = batch_size, shuffle=True)"
      ],
      "execution_count": 4,
      "outputs": []
    },
    {
      "cell_type": "code",
      "metadata": {
        "id": "n_w8Dn9ILJi7"
      },
      "source": [
        "model = timm.create_model('resnet34')\n",
        "model.fc = nn.Sequential(\n",
        "    nn.Linear(in_features = 512, out_features = 128, bias=True),\n",
        "    nn.Linear(in_features = 128, out_features = 32, bias=True),\n",
        "    nn.Linear(in_features = 32, out_features = num_labels, bias=True),\n",
        "    nn.LogSoftmax(dim=1))"
      ],
      "execution_count": 5,
      "outputs": []
    },
    {
      "cell_type": "code",
      "metadata": {
        "id": "IJeKrjh7LP2N",
        "colab": {
          "base_uri": "https://localhost:8080/"
        },
        "outputId": "edc93607-5ef8-429d-aea6-f43a8032d569"
      },
      "source": [
        "optimizer = torch.optim.Adam(model.parameters(), lr = 0.01)\n",
        "\n",
        "indices = []\n",
        "loss_list = []\n",
        "train_correct = 0\n",
        "model.train()\n",
        "for epoch in range(epochs):\n",
        "    for data, target in trainloader:\n",
        "        data, target = Variable(data), Variable(target)\n",
        "        optimizer.zero_grad()\n",
        "        output = model(data)\n",
        "        loss = F.nll_loss(output, target)\n",
        "        pred = output.data.max(1, keepdim=True)[1]\n",
        "        train_correct += pred.eq(target.data.view_as(pred)).cpu().sum()\n",
        "        loss.backward()\n",
        "        optimizer.step()\n",
        "\n",
        "    print(\"Epoch: {:.0f}\\tLoss: {:.6f}\".format(epoch, loss.item()))\n",
        "    loss_list.append(loss.item())\n",
        "    indices.append(epoch)\n",
        "\n",
        "print(\"\\nTraining accuracy: {}/{} ({:.2f}%)\\n\".format(\n",
        "      train_correct, len(trainloader.dataset)*epochs,\n",
        "      100. * train_correct / (len(trainloader.dataset)*epochs)))\n"
      ],
      "execution_count": 6,
      "outputs": [
        {
          "output_type": "stream",
          "text": [
            "Epoch: 0\tLoss: 0.329455\n",
            "Epoch: 1\tLoss: 0.429829\n",
            "Epoch: 2\tLoss: 0.471750\n",
            "Epoch: 3\tLoss: 0.289910\n",
            "Epoch: 4\tLoss: 0.297317\n",
            "Epoch: 5\tLoss: 0.141761\n",
            "Epoch: 6\tLoss: 0.077861\n",
            "Epoch: 7\tLoss: 0.237637\n",
            "Epoch: 8\tLoss: 4.822365\n",
            "Epoch: 9\tLoss: 0.198625\n",
            "\n",
            "Training accuracy: 646153/732570 (88.20%)\n",
            "\n"
          ],
          "name": "stdout"
        }
      ]
    },
    {
      "cell_type": "code",
      "metadata": {
        "id": "7RGGPZyoVDps",
        "colab": {
          "base_uri": "https://localhost:8080/",
          "height": 295
        },
        "outputId": "9befe721-792e-4955-c86e-710840da1ff2"
      },
      "source": [
        "plt.plot(indices, loss_list)\n",
        "plt.title('Loss per epoch')\n",
        "plt.ylabel('Loss')\n",
        "plt.xlabel('Epoch')\n",
        "plt.show()"
      ],
      "execution_count": 7,
      "outputs": [
        {
          "output_type": "display_data",
          "data": {
            "image/png": "[encoded data removed]",
            "text/plain": [
              "<Figure size 432x288 with 1 Axes>"
            ]
          },
          "metadata": {
            "tags": [],
            "needs_background": "light"
          }
        }
      ]
    },
    {
      "cell_type": "code",
      "metadata": {
        "id": "VonD0yC7dd5o",
        "colab": {
          "base_uri": "https://localhost:8080/"
        },
        "outputId": "248db023-3f35-4cd8-ecd5-53e6c3f07827"
      },
      "source": [
        "with torch.no_grad():            \n",
        "  model.eval()\n",
        "  test_loss = 0\n",
        "  test_correct = 0\n",
        "  for data, target in testloader:\n",
        "      data, target = Variable(data), Variable(target)\n",
        "      output = model(data)\n",
        "      test_loss += F.nll_loss(output, target, reduction='sum').data\n",
        "      pred = output.data.max(1, keepdim=True)[1]\n",
        "      test_correct += pred.eq(target.data.view_as(pred)).cpu().sum()\n",
        "\n",
        "test_loss /= len(testloader.dataset)\n",
        "print(\"Test set: Average loss: {:.4f}, Test Accuracy: {}/{} ({:.2f}%)\".format(\n",
        "      test_loss, test_correct, len(testloader.dataset),\n",
        "      100. * test_correct / len(testloader.dataset)))"
      ],
      "execution_count": 9,
      "outputs": [
        {
          "output_type": "stream",
          "text": [
            "Test set: Average loss: 0.3173, Test Accuracy: 23631/26032 (90.78%)\n"
          ],
          "name": "stdout"
        }
      ]
    }
  ]
}