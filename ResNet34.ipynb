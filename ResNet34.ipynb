{
  "nbformat": 4,
  "nbformat_minor": 0,
  "metadata": {
    "colab": {
      "name": "ResNet34.ipynb",
      "provenance": [],
      "collapsed_sections": [],
      "authorship_tag": "ABX9TyNXX+3oYR/JTMaQrMYEoGGu",
      "include_colab_link": true
    },
    "kernelspec": {
      "name": "python3",
      "display_name": "Python 3"
    },
    "language_info": {
      "name": "python"
    },
    "accelerator": "GPU"
  },
  "cells": [
    {
      "cell_type": "markdown",
      "metadata": {
        "id": "view-in-github",
        "colab_type": "text"
      },
      "source": [
        "<a href=\"https://colab.research.google.com/github/evcaburnay/EE-298-Project/blob/main/ResNet34.ipynb\" target=\"_parent\"><img src=\"https://colab.research.google.com/assets/colab-badge.svg\" alt=\"Open In Colab\"/></a>"
      ]
    },
    {
      "cell_type": "code",
      "metadata": {
        "id": "ka9j3PEjKA89",
        "colab": {
          "base_uri": "https://localhost:8080/"
        },
        "outputId": "1af41198-d701-44dc-e4a4-7f02b060742e"
      },
      "source": [
        "import matplotlib.pyplot as plt\n",
        "!pip install timm\n",
        "import timm\n",
        "import torch\n",
        "import torch.nn as nn\n",
        "import torch.nn.functional as F\n",
        "import torch.optim as optim\n",
        "import torchvision\n",
        "from torchvision import datasets, transforms\n",
        "from torch.autograd import Variable"
      ],
      "execution_count": 1,
      "outputs": [
        {
          "output_type": "stream",
          "text": [
            "Requirement already satisfied: timm in /usr/local/lib/python3.7/dist-packages (0.4.5)\n",
            "Requirement already satisfied: torch>=1.4 in /usr/local/lib/python3.7/dist-packages (from timm) (1.8.1+cu101)\n",
            "Requirement already satisfied: torchvision in /usr/local/lib/python3.7/dist-packages (from timm) (0.9.1+cu101)\n",
            "Requirement already satisfied: typing-extensions in /usr/local/lib/python3.7/dist-packages (from torch>=1.4->timm) (3.7.4.3)\n",
            "Requirement already satisfied: numpy in /usr/local/lib/python3.7/dist-packages (from torch>=1.4->timm) (1.19.5)\n",
            "Requirement already satisfied: pillow>=4.1.1 in /usr/local/lib/python3.7/dist-packages (from torchvision->timm) (7.1.2)\n"
          ],
          "name": "stdout"
        }
      ]
    },
    {
      "cell_type": "code",
      "metadata": {
        "colab": {
          "base_uri": "https://localhost:8080/"
        },
        "id": "rrKOorFjKPU2",
        "outputId": "eb46db84-4758-4339-b46e-53dfbe63641e"
      },
      "source": [
        "trainset = datasets.SVHN(root='data/', split='train',download=True,\n",
        "                        transform = transforms.ToTensor())\n",
        "\n",
        "testset = datasets.SVHN(root='data/', split='test', download=True,\n",
        "                       transform = transforms.ToTensor())"
      ],
      "execution_count": 2,
      "outputs": [
        {
          "output_type": "stream",
          "text": [
            "Using downloaded and verified file: data/train_32x32.mat\n",
            "Using downloaded and verified file: data/test_32x32.mat\n"
          ],
          "name": "stdout"
        }
      ]
    },
    {
      "cell_type": "code",
      "metadata": {
        "id": "yk5sOos7ufvc"
      },
      "source": [
        "batch_size = 64\n",
        "num_labels = 10\n",
        "epochs = 10"
      ],
      "execution_count": 3,
      "outputs": []
    },
    {
      "cell_type": "code",
      "metadata": {
        "id": "uzBsfCq9LGYQ"
      },
      "source": [
        "trainloader = torch.utils.data.DataLoader(trainset,\n",
        "                                          batch_size = batch_size, shuffle=True)\n",
        "testloader = torch.utils.data.DataLoader(testset, \n",
        "                                         batch_size = batch_size, shuffle=True)"
      ],
      "execution_count": 4,
      "outputs": []
    },
    {
      "cell_type": "code",
      "metadata": {
        "id": "n_w8Dn9ILJi7"
      },
      "source": [
        "model = timm.create_model('resnet34')\n",
        "model.fc = nn.Sequential(\n",
        "    nn.Linear(in_features = 512, out_features = 128, bias=True),\n",
        "    nn.Linear(in_features = 128, out_features = 32, bias=True),\n",
        "    nn.Linear(in_features = 32, out_features = num_labels, bias=True),\n",
        "    nn.LogSoftmax(dim=1))"
      ],
      "execution_count": 5,
      "outputs": []
    },
    {
      "cell_type": "code",
      "metadata": {
        "id": "IJeKrjh7LP2N",
        "colab": {
          "base_uri": "https://localhost:8080/"
        },
        "outputId": "14891dc0-f69e-46dd-e7b7-9ddff48b8b6e"
      },
      "source": [
        "optimizer = torch.optim.Adam(model.parameters(), lr = 0.01)\n",
        "\n",
        "indices = []\n",
        "loss_list = []\n",
        "train_correct = 0\n",
        "model.train()\n",
        "for epoch in range(epochs):\n",
        "    for data, target in trainloader:\n",
        "        data, target = Variable(data), Variable(target)\n",
        "        optimizer.zero_grad()\n",
        "        output = model(data)\n",
        "        loss = F.nll_loss(output, target)\n",
        "        pred = output.data.max(1, keepdim=True)[1]\n",
        "        train_correct += pred.eq(target.data.view_as(pred)).cpu().sum()\n",
        "        loss.backward()\n",
        "        optimizer.step()\n",
        "\n",
        "    print(\"Epoch: {:.0f}\\tLoss: {:.6f}\".format(epoch, loss.item()))\n",
        "    loss_list.append(loss.item())\n",
        "    indices.append(epoch)\n",
        "\n",
        "print(\"\\nTraining accuracy: {}/{} ({:.2f}%)\\n\".format(\n",
        "      train_correct, len(trainloader.dataset)*epochs,\n",
        "      100. * train_correct / (len(trainloader.dataset)*epochs)))\n"
      ],
      "execution_count": null,
      "outputs": [
        {
          "output_type": "stream",
          "text": [
            "Epoch: 0\tLoss: 0.506074\n",
            "Epoch: 1\tLoss: 0.486193\n",
            "Epoch: 2\tLoss: 0.204514\n",
            "Epoch: 3\tLoss: 0.234050\n",
            "Epoch: 4\tLoss: 0.252719\n",
            "Epoch: 5\tLoss: 0.350151\n",
            "Epoch: 6\tLoss: 0.327373\n",
            "Epoch: 7\tLoss: 0.308589\n",
            "Epoch: 8\tLoss: 0.216620\n"
          ],
          "name": "stdout"
        }
      ]
    },
    {
      "cell_type": "code",
      "metadata": {
        "id": "7RGGPZyoVDps",
        "colab": {
          "base_uri": "https://localhost:8080/",
          "height": 295
        },
        "outputId": "c24f936c-dcbd-4585-8c56-d5c8d8a79a0c"
      },
      "source": [
        "plt.plot(indices, loss_list)\n",
        "plt.title('Loss per epoch')\n",
        "plt.ylabel('Loss')\n",
        "plt.xlabel('Epoch')\n",
        "plt.show()"
      ],
      "execution_count": 11,
      "outputs": [
        {
          "output_type": "display_data",
          "data": {
            "image/png": "[encoded data removed]",
            "text/plain": [
              "<Figure size 432x288 with 1 Axes>"
            ]
          },
          "metadata": {
            "tags": [],
            "needs_background": "light"
          }
        }
      ]
    },
    {
      "cell_type": "code",
      "metadata": {
        "id": "VonD0yC7dd5o"
      },
      "source": [
        "with torch.no_grad():            \n",
        "  model.eval()\n",
        "  test_loss = 0\n",
        "  test_correct = 0\n",
        "  for data, target in testloader:\n",
        "      data, target = Variable(data), Variable(target)\n",
        "      output = model(data)\n",
        "      test_loss += F.nll_loss(output, target, reduction='sum').data\n",
        "      pred = output.data.max(1, keepdim=True)[1]\n",
        "      correct += pred.eq(target.data.view_as(pred)).cpu().sum()\n",
        "\n",
        "test_loss /= len(testloader.dataset)\n",
        "print(\"\\nTest set: Average loss: {:.4f}, Test Accuracy: {}/{} ({:.2f}%)\\n\".format(\n",
        "      test_loss, test_correct, len(testloader.dataset),\n",
        "      100. * test_correct / len(testloader.dataset)))"
      ],
      "execution_count": null,
      "outputs": []
    }
  ]
}