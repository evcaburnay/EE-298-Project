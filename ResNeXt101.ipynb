{
 "cells": [
  {
   "cell_type": "code",
   "execution_count": 1,
   "id": "1a7e8b8f",
   "metadata": {},
   "outputs": [],
   "source": [
    "import matplotlib.pyplot as plt\n",
    "import timm\n",
    "import torch\n",
    "import torch.nn as nn\n",
    "import torch.nn.functional as F\n",
    "import torch.optim as optim\n",
    "import torchvision\n",
    "from torchvision import datasets, transforms\n",
    "from torch.autograd import Variable"
   ]
  },
  {
   "cell_type": "code",
   "execution_count": 2,
   "id": "d90934ab",
   "metadata": {},
   "outputs": [
    {
     "name": "stdout",
     "output_type": "stream",
     "text": [
      "Using downloaded and verified file: data/train_32x32.mat\n",
      "Using downloaded and verified file: data/test_32x32.mat\n"
     ]
    }
   ],
   "source": [
    "trainset = datasets.SVHN(root='data/', split='train',download=True,\n",
    "                        transform = transforms.ToTensor())\n",
    "\n",
    "testset = datasets.SVHN(root='data/', split='test', download=True,\n",
    "                       transform = transforms.ToTensor())"
   ]
  },
  {
   "cell_type": "code",
   "execution_count": 3,
   "id": "e12093c9",
   "metadata": {},
   "outputs": [],
   "source": [
    "batch_size = 64\n",
    "num_labels = 10\n",
    "epochs = 10"
   ]
  },
  {
   "cell_type": "code",
   "execution_count": 4,
   "id": "78ba6795",
   "metadata": {},
   "outputs": [],
   "source": [
    "trainloader = torch.utils.data.DataLoader(trainset,\n",
    "                                          batch_size = batch_size, shuffle=True)\n",
    "testloader = torch.utils.data.DataLoader(testset, \n",
    "                                         batch_size = batch_size, shuffle=True)"
   ]
  },
  {
   "cell_type": "code",
   "execution_count": 12,
   "id": "9f48b45a",
   "metadata": {},
   "outputs": [],
   "source": [
    "model = timm.create_model('resnext101_32x4d')\n",
    "model.fc = nn.Sequential(\n",
    "    nn.Linear(in_features=2048, out_features=num_labels, bias=True),\n",
    "    nn.LogSoftmax(dim=1)\n",
    ")"
   ]
  },
  {
   "cell_type": "code",
   "execution_count": 13,
   "id": "e054c9fc",
   "metadata": {},
   "outputs": [
    {
     "name": "stdout",
     "output_type": "stream",
     "text": [
      "Epoch: 0\tLoss: 0.547574\n",
      "Epoch: 1\tLoss: 0.624514\n",
      "Epoch: 2\tLoss: 0.471506\n",
      "Epoch: 3\tLoss: 0.263810\n",
      "Epoch: 4\tLoss: 0.143922\n",
      "Epoch: 5\tLoss: 0.455031\n",
      "Epoch: 6\tLoss: 0.042607\n",
      "Epoch: 7\tLoss: 0.220648\n",
      "Epoch: 8\tLoss: 0.183929\n",
      "Epoch: 9\tLoss: 0.163268\n",
      "\n",
      "Training accuracy: 671829/732570 (91.71%)\n",
      "\n"
     ]
    }
   ],
   "source": [
    "optimizer = optim.Adam(model.parameters(), lr = 0.001)\n",
    "\n",
    "indices = []\n",
    "loss_list = []\n",
    "train_correct = 0\n",
    "model.train()\n",
    "for epoch in range(epochs):\n",
    "    for data, target in trainloader:\n",
    "        data, target = Variable(data), Variable(target)\n",
    "        optimizer.zero_grad()\n",
    "        output = model(data)\n",
    "        loss = F.nll_loss(output, target)\n",
    "        pred = output.data.max(1, keepdim=True)[1]\n",
    "        train_correct += pred.eq(target.data.view_as(pred)).cpu().sum()\n",
    "        loss.backward()\n",
    "        optimizer.step()\n",
    "\n",
    "    print(\"Epoch: {:.0f}\\tLoss: {:.6f}\".format(epoch, loss.item()))\n",
    "    loss_list.append(loss.item())\n",
    "    indices.append(epoch)\n",
    "\n",
    "print(\"\\nTraining accuracy: {}/{} ({:.2f}%)\\n\".format(\n",
    "      train_correct, len(trainloader.dataset)*epochs,\n",
    "      100. * train_correct / (len(trainloader.dataset)*epochs)))\n"
   ]
  },
  {
   "cell_type": "code",
   "execution_count": 15,
   "id": "cd03d749",
   "metadata": {},
   "outputs": [
    {
     "data": {
      "image/png": "[encoded data removed]",
      "text/plain": [
       "<Figure size 432x288 with 1 Axes>"
      ]
     },
     "metadata": {
      "needs_background": "light"
     },
     "output_type": "display_data"
    }
   ],
   "source": [
    "plt.plot(indices, loss_list)\n",
    "plt.title('Loss per epoch')\n",
    "plt.ylabel('Loss')\n",
    "plt.xlabel('Epoch')\n",
    "plt.ylim(0, 5)\n",
    "plt.show()"
   ]
  },
  {
   "cell_type": "code",
   "execution_count": 16,
   "id": "50dc9517",
   "metadata": {},
   "outputs": [
    {
     "name": "stdout",
     "output_type": "stream",
     "text": [
      "Test set: Average loss: 0.2970, Test Accuracy: 23996/26032 (92.18%)\n"
     ]
    }
   ],
   "source": [
    "with torch.no_grad():            \n",
    "  model.eval()\n",
    "  test_loss = 0\n",
    "  test_correct = 0\n",
    "  for data, target in testloader:\n",
    "      data, target = Variable(data), Variable(target)\n",
    "      output = model(data)\n",
    "      test_loss += F.nll_loss(output, target, reduction='sum').data\n",
    "      pred = output.data.max(1, keepdim=True)[1]\n",
    "      test_correct += pred.eq(target.data.view_as(pred)).cpu().sum()\n",
    "\n",
    "test_loss /= len(testloader.dataset)\n",
    "print('Test set: Average loss: {:.4f}, Test Accuracy: {}/{} ({:.2f}%)'.format(\n",
    "      test_loss, test_correct, len(testloader.dataset),\n",
    "      100. * test_correct / len(testloader.dataset)))"
   ]
  },
  {
   "cell_type": "code",
   "execution_count": null,
   "id": "1cc0cb79",
   "metadata": {},
   "outputs": [],
   "source": []
  }
 ],
 "metadata": {
  "kernelspec": {
   "display_name": "Python 3",
   "language": "python",
   "name": "python3"
  },
  "language_info": {
   "codemirror_mode": {
    "name": "ipython",
    "version": 3
   },
   "file_extension": ".py",
   "mimetype": "text/x-python",
   "name": "python",
   "nbconvert_exporter": "python",
   "pygments_lexer": "ipython3",
   "version": "3.7.9"
  }
 },
 "nbformat": 4,
 "nbformat_minor": 5
}
